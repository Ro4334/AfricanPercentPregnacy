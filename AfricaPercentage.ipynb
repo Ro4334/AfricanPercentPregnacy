{
  "nbformat": 4,
  "nbformat_minor": 0,
  "metadata": {
    "colab": {
      "name": "AfricaPercentage.ipynb",
      "provenance": []
    },
    "kernelspec": {
      "name": "python3",
      "display_name": "Python 3"
    },
    "language_info": {
      "name": "python"
    }
  },
  "cells": [
    {
      "cell_type": "code",
      "execution_count": 2,
      "metadata": {
        "colab": {
          "base_uri": "https://localhost:8080/"
        },
        "id": "Fwt3p2cqT0MH",
        "outputId": "2d8699fd-8168-462b-e69e-f1f316a4e7c5"
      },
      "outputs": [
        {
          "output_type": "stream",
          "name": "stdout",
          "text": [
            "Mounted at /content/drive\n"
          ]
        }
      ],
      "source": [
        "from google.colab import drive\n",
        "drive.mount('/content/drive')"
      ]
    },
    {
      "cell_type": "code",
      "source": [
        "import matplotlib.pyplot as plt\n",
        "import pandas as pd\n",
        "import numpy as np"
      ],
      "metadata": {
        "id": "KaAC-SIqUMxt"
      },
      "execution_count": 10,
      "outputs": []
    },
    {
      "cell_type": "code",
      "source": [
        "filename='/content/drive/MyDrive/Coding Dojo/Week3/Control prenatal/VIZ5_September_Contraceptive_Use_dataset.csv'\n",
        "df=pd.read_csv(filename,  sep=',' , encoding='latin-1')\n",
        "df.head(9)"
      ],
      "metadata": {
        "colab": {
          "base_uri": "https://localhost:8080/",
          "height": 549
        },
        "id": "Q52-Co-yUTTl",
        "outputId": "53ae64b7-7af4-4fed-f338-cc3a72d38f9d"
      },
      "execution_count": 11,
      "outputs": [
        {
          "output_type": "execute_result",
          "data": {
            "text/html": [
              "\n",
              "  <div id=\"df-979c93c1-884e-4a8c-8bfa-2f06178e4813\">\n",
              "    <div class=\"colab-df-container\">\n",
              "      <div>\n",
              "<style scoped>\n",
              "    .dataframe tbody tr th:only-of-type {\n",
              "        vertical-align: middle;\n",
              "    }\n",
              "\n",
              "    .dataframe tbody tr th {\n",
              "        vertical-align: top;\n",
              "    }\n",
              "\n",
              "    .dataframe thead th {\n",
              "        text-align: right;\n",
              "    }\n",
              "</style>\n",
              "<table border=\"1\" class=\"dataframe\">\n",
              "  <thead>\n",
              "    <tr style=\"text-align: right;\">\n",
              "      <th></th>\n",
              "      <th>Continent</th>\n",
              "      <th>Sub-Continent</th>\n",
              "      <th>Country</th>\n",
              "      <th>Percentage distribution of women aged 15-49  (per country)</th>\n",
              "      <th>Pregnancy intention</th>\n",
              "      <th>Contraceptive availability</th>\n",
              "      <th>Contraceptive method</th>\n",
              "    </tr>\n",
              "  </thead>\n",
              "  <tbody>\n",
              "    <tr>\n",
              "      <th>0</th>\n",
              "      <td>Africa</td>\n",
              "      <td>Eastern Africa</td>\n",
              "      <td>Burundi</td>\n",
              "      <td>0.650838</td>\n",
              "      <td>Not wanting to avoid pregancy</td>\n",
              "      <td>Not applicable</td>\n",
              "      <td>Not applicable</td>\n",
              "    </tr>\n",
              "    <tr>\n",
              "      <th>1</th>\n",
              "      <td>Africa</td>\n",
              "      <td>Eastern Africa</td>\n",
              "      <td>Burundi</td>\n",
              "      <td>0.113709</td>\n",
              "      <td>Wanting to avoid pregnancy</td>\n",
              "      <td>Met need</td>\n",
              "      <td>Using modern methods</td>\n",
              "    </tr>\n",
              "    <tr>\n",
              "      <th>2</th>\n",
              "      <td>Africa</td>\n",
              "      <td>Eastern Africa</td>\n",
              "      <td>Burundi</td>\n",
              "      <td>0.024347</td>\n",
              "      <td>Wanting to avoid pregnancy</td>\n",
              "      <td>Unmet need</td>\n",
              "      <td>Using traditional methods</td>\n",
              "    </tr>\n",
              "    <tr>\n",
              "      <th>3</th>\n",
              "      <td>Africa</td>\n",
              "      <td>Eastern Africa</td>\n",
              "      <td>Burundi</td>\n",
              "      <td>0.211106</td>\n",
              "      <td>Wanting to avoid pregnancy</td>\n",
              "      <td>Unmet need</td>\n",
              "      <td>Using no method</td>\n",
              "    </tr>\n",
              "    <tr>\n",
              "      <th>4</th>\n",
              "      <td>Africa</td>\n",
              "      <td>Eastern Africa</td>\n",
              "      <td>Comoros</td>\n",
              "      <td>0.666126</td>\n",
              "      <td>Not wanting to avoid pregancy</td>\n",
              "      <td>Not applicable</td>\n",
              "      <td>Not applicable</td>\n",
              "    </tr>\n",
              "    <tr>\n",
              "      <th>5</th>\n",
              "      <td>Africa</td>\n",
              "      <td>Eastern Africa</td>\n",
              "      <td>Comoros</td>\n",
              "      <td>0.095069</td>\n",
              "      <td>Wanting to avoid pregnancy</td>\n",
              "      <td>Met need</td>\n",
              "      <td>Using modern methods</td>\n",
              "    </tr>\n",
              "    <tr>\n",
              "      <th>6</th>\n",
              "      <td>Africa</td>\n",
              "      <td>Eastern Africa</td>\n",
              "      <td>Comoros</td>\n",
              "      <td>0.038169</td>\n",
              "      <td>Wanting to avoid pregnancy</td>\n",
              "      <td>Unmet need</td>\n",
              "      <td>Using traditional methods</td>\n",
              "    </tr>\n",
              "    <tr>\n",
              "      <th>7</th>\n",
              "      <td>Africa</td>\n",
              "      <td>Eastern Africa</td>\n",
              "      <td>Comoros</td>\n",
              "      <td>0.200636</td>\n",
              "      <td>Wanting to avoid pregnancy</td>\n",
              "      <td>Unmet need</td>\n",
              "      <td>Using no method</td>\n",
              "    </tr>\n",
              "    <tr>\n",
              "      <th>8</th>\n",
              "      <td>Africa</td>\n",
              "      <td>Eastern Africa</td>\n",
              "      <td>Djibouti</td>\n",
              "      <td>0.657094</td>\n",
              "      <td>Not wanting to avoid pregancy</td>\n",
              "      <td>Not applicable</td>\n",
              "      <td>Not applicable</td>\n",
              "    </tr>\n",
              "  </tbody>\n",
              "</table>\n",
              "</div>\n",
              "      <button class=\"colab-df-convert\" onclick=\"convertToInteractive('df-979c93c1-884e-4a8c-8bfa-2f06178e4813')\"\n",
              "              title=\"Convert this dataframe to an interactive table.\"\n",
              "              style=\"display:none;\">\n",
              "        \n",
              "  <svg xmlns=\"http://www.w3.org/2000/svg\" height=\"24px\"viewBox=\"0 0 24 24\"\n",
              "       width=\"24px\">\n",
              "    <path d=\"M0 0h24v24H0V0z\" fill=\"none\"/>\n",
              "    <path d=\"M18.56 5.44l.94 2.06.94-2.06 2.06-.94-2.06-.94-.94-2.06-.94 2.06-2.06.94zm-11 1L8.5 8.5l.94-2.06 2.06-.94-2.06-.94L8.5 2.5l-.94 2.06-2.06.94zm10 10l.94 2.06.94-2.06 2.06-.94-2.06-.94-.94-2.06-.94 2.06-2.06.94z\"/><path d=\"M17.41 7.96l-1.37-1.37c-.4-.4-.92-.59-1.43-.59-.52 0-1.04.2-1.43.59L10.3 9.45l-7.72 7.72c-.78.78-.78 2.05 0 2.83L4 21.41c.39.39.9.59 1.41.59.51 0 1.02-.2 1.41-.59l7.78-7.78 2.81-2.81c.8-.78.8-2.07 0-2.86zM5.41 20L4 18.59l7.72-7.72 1.47 1.35L5.41 20z\"/>\n",
              "  </svg>\n",
              "      </button>\n",
              "      \n",
              "  <style>\n",
              "    .colab-df-container {\n",
              "      display:flex;\n",
              "      flex-wrap:wrap;\n",
              "      gap: 12px;\n",
              "    }\n",
              "\n",
              "    .colab-df-convert {\n",
              "      background-color: #E8F0FE;\n",
              "      border: none;\n",
              "      border-radius: 50%;\n",
              "      cursor: pointer;\n",
              "      display: none;\n",
              "      fill: #1967D2;\n",
              "      height: 32px;\n",
              "      padding: 0 0 0 0;\n",
              "      width: 32px;\n",
              "    }\n",
              "\n",
              "    .colab-df-convert:hover {\n",
              "      background-color: #E2EBFA;\n",
              "      box-shadow: 0px 1px 2px rgba(60, 64, 67, 0.3), 0px 1px 3px 1px rgba(60, 64, 67, 0.15);\n",
              "      fill: #174EA6;\n",
              "    }\n",
              "\n",
              "    [theme=dark] .colab-df-convert {\n",
              "      background-color: #3B4455;\n",
              "      fill: #D2E3FC;\n",
              "    }\n",
              "\n",
              "    [theme=dark] .colab-df-convert:hover {\n",
              "      background-color: #434B5C;\n",
              "      box-shadow: 0px 1px 3px 1px rgba(0, 0, 0, 0.15);\n",
              "      filter: drop-shadow(0px 1px 2px rgba(0, 0, 0, 0.3));\n",
              "      fill: #FFFFFF;\n",
              "    }\n",
              "  </style>\n",
              "\n",
              "      <script>\n",
              "        const buttonEl =\n",
              "          document.querySelector('#df-979c93c1-884e-4a8c-8bfa-2f06178e4813 button.colab-df-convert');\n",
              "        buttonEl.style.display =\n",
              "          google.colab.kernel.accessAllowed ? 'block' : 'none';\n",
              "\n",
              "        async function convertToInteractive(key) {\n",
              "          const element = document.querySelector('#df-979c93c1-884e-4a8c-8bfa-2f06178e4813');\n",
              "          const dataTable =\n",
              "            await google.colab.kernel.invokeFunction('convertToInteractive',\n",
              "                                                     [key], {});\n",
              "          if (!dataTable) return;\n",
              "\n",
              "          const docLinkHtml = 'Like what you see? Visit the ' +\n",
              "            '<a target=\"_blank\" href=https://colab.research.google.com/notebooks/data_table.ipynb>data table notebook</a>'\n",
              "            + ' to learn more about interactive tables.';\n",
              "          element.innerHTML = '';\n",
              "          dataTable['output_type'] = 'display_data';\n",
              "          await google.colab.output.renderOutput(dataTable, element);\n",
              "          const docLink = document.createElement('div');\n",
              "          docLink.innerHTML = docLinkHtml;\n",
              "          element.appendChild(docLink);\n",
              "        }\n",
              "      </script>\n",
              "    </div>\n",
              "  </div>\n",
              "  "
            ],
            "text/plain": [
              "  Continent  ...       Contraceptive method\n",
              "0    Africa  ...             Not applicable\n",
              "1    Africa  ...       Using modern methods\n",
              "2    Africa  ...  Using traditional methods\n",
              "3    Africa  ...            Using no method\n",
              "4    Africa  ...             Not applicable\n",
              "5    Africa  ...       Using modern methods\n",
              "6    Africa  ...  Using traditional methods\n",
              "7    Africa  ...            Using no method\n",
              "8    Africa  ...             Not applicable\n",
              "\n",
              "[9 rows x 7 columns]"
            ]
          },
          "metadata": {},
          "execution_count": 11
        }
      ]
    },
    {
      "cell_type": "code",
      "source": [
        "si_embarazo=df['Pregnancy intention']=='Not wanting to avoid pregancy'\n",
        "si_embarazo.head(2)"
      ],
      "metadata": {
        "colab": {
          "base_uri": "https://localhost:8080/"
        },
        "id": "jUI6ODkVZpe_",
        "outputId": "026289c5-10c0-47c1-b919-8c7945f59cf6"
      },
      "execution_count": 12,
      "outputs": [
        {
          "output_type": "execute_result",
          "data": {
            "text/plain": [
              "0     True\n",
              "1    False\n",
              "Name: Pregnancy intention, dtype: bool"
            ]
          },
          "metadata": {},
          "execution_count": 12
        }
      ]
    },
    {
      "cell_type": "code",
      "source": [
        "no_embarazo=df['Pregnancy intention']=='Wanting to avoid pregnancy'\n",
        "no_embarazo.head()"
      ],
      "metadata": {
        "colab": {
          "base_uri": "https://localhost:8080/"
        },
        "id": "N_BcdF7GaX6h",
        "outputId": "d92d8291-f084-4a01-8079-628950f1fc70"
      },
      "execution_count": 13,
      "outputs": [
        {
          "output_type": "execute_result",
          "data": {
            "text/plain": [
              "0    False\n",
              "1     True\n",
              "2     True\n",
              "3     True\n",
              "4    False\n",
              "Name: Pregnancy intention, dtype: bool"
            ]
          },
          "metadata": {},
          "execution_count": 13
        }
      ]
    },
    {
      "cell_type": "code",
      "source": [
        "serie_si_embarazo= df.loc[si_embarazo,:].groupby(['Sub-Continent'])['Percentage distribution of women aged 15-49  (per country)'].sum()\n",
        "serie_si_embarazo;"
      ],
      "metadata": {
        "id": "Qp7TE3uRatxK"
      },
      "execution_count": 14,
      "outputs": []
    },
    {
      "cell_type": "code",
      "source": [
        "serie_no_emabrazo=df.loc[no_embarazo,:].groupby(['Sub-Continent'])['Percentage distribution of women aged 15-49  (per country)'].sum()\n",
        "serie_no_emabrazo;"
      ],
      "metadata": {
        "id": "lWk8pTFhb5lC"
      },
      "execution_count": 15,
      "outputs": []
    },
    {
      "cell_type": "code",
      "source": [
        "plt.figure(figsize=(8,4))\n",
        "#subplot1\n",
        "plt.subplot(1,2,1)\n",
        "serie_no_emabrazo.plot.bar()\n",
        "plt.title('Mujeres que no desean embarazarse')\n",
        "plt.ylabel('Porcentaje por estado')\n",
        "#subplot2\n",
        "plt.subplot(1,2.5,2)\n",
        "serie_si_embarazo.plot.bar()\n",
        "plt.title('Mujeres que desean embarazarse')\n",
        "plt.ylabel('Porcentaje por estado')\n",
        "#guardar en png\n",
        "plt.savefig('PorcentajeAfricaEmbarazos.png', dpi=300)"
      ],
      "metadata": {
        "colab": {
          "base_uri": "https://localhost:8080/",
          "height": 366
        },
        "id": "mGXHGUxudlUI",
        "outputId": "4f9b4975-abe3-4c99-afc5-0f53f691f012"
      },
      "execution_count": 18,
      "outputs": [
        {
          "output_type": "display_data",
          "data": {
            "image/png": "[encoded data removed]",
            "text/plain": [
              "<Figure size 576x288 with 2 Axes>"
            ]
          },
          "metadata": {
            "needs_background": "light"
          }
        }
      ]
    },
    {
      "cell_type": "code",
      "source": [
        ""
      ],
      "metadata": {
        "id": "-NT1hi7PYS1O"
      },
      "execution_count": null,
      "outputs": []
    }
  ]
}